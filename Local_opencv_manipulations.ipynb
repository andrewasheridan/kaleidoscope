{
 "cells": [
  {
   "cell_type": "code",
   "execution_count": 7,
   "metadata": {},
   "outputs": [],
   "source": [
    "%load_ext blackcellmagic"
   ]
  },
  {
   "cell_type": "code",
   "execution_count": 1,
   "metadata": {},
   "outputs": [],
   "source": [
    "import cv2\n",
    "import glob\n",
    "import sys"
   ]
  },
  {
   "cell_type": "code",
   "execution_count": 2,
   "metadata": {},
   "outputs": [],
   "source": [
    "filenames = glob.glob(\"../DataSets/Cats_and_Dogs/*\")"
   ]
  },
  {
   "cell_type": "code",
   "execution_count": 7,
   "metadata": {},
   "outputs": [],
   "source": [
    "def generate_basic_metadata(filenames):\n",
    "    \n",
    "    num_files = len(filenames)\n",
    "    image_metadata = {}\n",
    "    \n",
    "    for i, filename in enumerate(filenames):\n",
    "\n",
    "        image = cv2.imread(filename)\n",
    "        height, width, channels = image.shape\n",
    "        std, mean, min, max, sum = (\n",
    "            image.std(),\n",
    "            image.mean(),\n",
    "            image.min(),\n",
    "            image.max(),\n",
    "            image.sum(),\n",
    "        )\n",
    "\n",
    "        image_metadata[filename] = {\n",
    "            \"height\": height,\n",
    "            \"width\": width,\n",
    "            \"channels\": channels,\n",
    "            \"std\": std,\n",
    "            \"mean\": mean,\n",
    "            \"min\": min,\n",
    "            \"max\": max,\n",
    "            \"sum\": sum,\n",
    "        }\n",
    "        \n",
    "        sys.stdout.write(\"\\r{:.2f}%\".format(100*(i + 1) / num_files))\n",
    "    sys.stdout.write(\"\\r\\n\")\n",
    "    return image_metadata\n"
   ]
  },
  {
   "cell_type": "code",
   "execution_count": 8,
   "metadata": {},
   "outputs": [
    {
     "name": "stdout",
     "output_type": "stream",
     "text": [
      "100.00%CPU times: user 6min 45s, sys: 23.9 s, total: 7min 9s\n",
      "Wall time: 3min 40s\n"
     ]
    }
   ],
   "source": [
    "%%time\n",
    "metadata = generate_basic_metadata(filenames)"
   ]
  },
  {
   "cell_type": "markdown",
   "metadata": {},
   "source": [
    "MacBook\n",
    "\n",
    "CPU times: user 6min 45s, sys: 23.9 s, total: 7min 9s\n",
    "Wall time: 3min 40s"
   ]
  },
  {
   "cell_type": "code",
   "execution_count": null,
   "metadata": {},
   "outputs": [],
   "source": []
  }
 ],
 "metadata": {
  "kernelspec": {
   "display_name": "Python 3",
   "language": "python",
   "name": "python3"
  },
  "language_info": {
   "codemirror_mode": {
    "name": "ipython",
    "version": 3
   },
   "file_extension": ".py",
   "mimetype": "text/x-python",
   "name": "python",
   "nbconvert_exporter": "python",
   "pygments_lexer": "ipython3",
   "version": "3.7.1"
  }
 },
 "nbformat": 4,
 "nbformat_minor": 2
}
